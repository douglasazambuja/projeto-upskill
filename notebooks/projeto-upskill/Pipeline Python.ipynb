{
 "cells": [
  {
   "cell_type": "markdown",
   "metadata": {
    "application/vnd.databricks.v1+cell": {
     "cellMetadata": {
      "byteLimit": 2048000,
      "rowLimit": 10000
     },
     "inputWidgets": {},
     "nuid": "f3602ab1-5dc3-4a21-9a51-35482c8362db",
     "showTitle": false,
     "tableResultSettingsMap": {},
     "title": ""
    }
   },
   "source": [
    "\n",
    "# Projeto Prático - Pipeline Python para Dados via APIs\n",
    "\n",
    "## Objetivo do projeto\n",
    "\n",
    "#### Construir um pipeline de extração → tratamento → disponibilização de dados usando Python (ou PySpark/Databricks, conforme preferência). Cada participante deve extrair dados de pelo menos duas APIs públicas distintas, realizar transformações e entregá-los em formato consumível via GIT (CSV / Parquet / tabela em Snowflake/S3 / REST endpoint, Dashboard e entre outros de sua preferência) disponibilizando os dados da melhor maneira possível, aplicando práticas de Engenharia de Dados (orquestração, particionamento, testes de qualidade, documentação).\n",
    "\n",
    "##### Desenvolvido por: Douglas Santos Azambuja"
   ]
  },
  {
   "cell_type": "code",
   "execution_count": 0,
   "metadata": {
    "application/vnd.databricks.v1+cell": {
     "cellMetadata": {
      "byteLimit": 2048000,
      "rowLimit": 10000
     },
     "inputWidgets": {},
     "nuid": "ecb5b18c-70bb-484b-83ef-bb2d2845e92c",
     "showTitle": false,
     "tableResultSettingsMap": {},
     "title": ""
    }
   },
   "outputs": [],
   "source": [
    "# importar Bibliotecas \n",
    "\n",
    "import requests\n",
    "import pandas as pd\n",
    "import pyspark as spark\n",
    "from pyspark.sql import SparkSession\n",
    "spark = SparkSession.builder.getOrCreate()\n",
    "from pyspark.sql import functions as F\n",
    "import matplotlib.pyplot as plt\n",
    "import seaborn as sns\n",
    "import math\n",
    "from scipy.stats import pearsonr\n",
    "import statsmodels.api as sm"
   ]
  },
  {
   "cell_type": "code",
   "execution_count": 0,
   "metadata": {
    "application/vnd.databricks.v1+cell": {
     "cellMetadata": {
      "byteLimit": 2048000,
      "rowLimit": 10000
     },
     "inputWidgets": {},
     "nuid": "02a4a023-5b88-4e54-b6c4-171711b09cf5",
     "showTitle": false,
     "tableResultSettingsMap": {},
     "title": ""
    }
   },
   "outputs": [],
   "source": [
    "# URL da API\n",
    "url = \"https://disease.sh/v3/covid-19/countries\"\n",
    "\n",
    "# Faz a chamada GET\n",
    "response = requests.get(url, headers={\"accept\": \"application/json\"})\n",
    "\n",
    "# Verifica se deu certo\n",
    "if response.status_code == 200:\n",
    "    data = response.json()\n",
    "    \n",
    "    # Normaliza JSON aninhado para DataFrame\n",
    "    df_covid = pd.json_normalize(data)\n",
    "    \n",
    "    # Exibe as primeiras linhas\n",
    "    display(df_covid)\n",
    "else:\n",
    "    print(\"Erro:\", response.status_code, response.text)"
   ]
  },
  {
   "cell_type": "code",
   "execution_count": 0,
   "metadata": {
    "application/vnd.databricks.v1+cell": {
     "cellMetadata": {
      "byteLimit": 2048000,
      "rowLimit": 10000
     },
     "inputWidgets": {},
     "nuid": "aa65a7f0-2960-4feb-9e04-6f7e5f75d8af",
     "showTitle": false,
     "tableResultSettingsMap": {},
     "title": ""
    }
   },
   "outputs": [],
   "source": [
    "# Verificando o tipo de dados\n",
    "\n",
    "df_covid.info()"
   ]
  },
  {
   "cell_type": "code",
   "execution_count": 0,
   "metadata": {
    "application/vnd.databricks.v1+cell": {
     "cellMetadata": {
      "byteLimit": 2048000,
      "rowLimit": 10000
     },
     "inputWidgets": {},
     "nuid": "46396f64-d060-463a-8eef-6a75796f4945",
     "showTitle": false,
     "tableResultSettingsMap": {},
     "title": ""
    }
   },
   "outputs": [],
   "source": [
    "# Verificando a quantidade de campos nulos\n",
    "\n",
    "df_covid.isnull().sum()"
   ]
  },
  {
   "cell_type": "code",
   "execution_count": 0,
   "metadata": {
    "application/vnd.databricks.v1+cell": {
     "cellMetadata": {
      "byteLimit": 2048000,
      "rowLimit": 10000
     },
     "inputWidgets": {},
     "nuid": "363c6282-398b-4e66-b4d7-4567e4bace15",
     "showTitle": false,
     "tableResultSettingsMap": {
      "0": {
       "dataGridStateBlob": "{\"version\":1,\"tableState\":{\"columnPinning\":{\"left\":[\"#row_number#\"],\"right\":[]},\"columnSizing\":{\"details\":525},\"columnVisibility\":{}},\"settings\":{\"columns\":{\"links.mission_patch\":{\"format\":{\"preset\":\"string-preset-url\"}},\"links.mission_patch_small\":{\"format\":{\"preset\":\"string-preset-url\"}},\"links.presskit\":{\"format\":{\"preset\":\"string-preset-url\"}},\"links.article_link\":{\"format\":{\"preset\":\"string-preset-url\"}},\"links.wikipedia\":{\"format\":{\"preset\":\"string-preset-url\"}},\"links.video_link\":{\"format\":{\"preset\":\"string-preset-url\"}}}},\"syncTimestamp\":1755379126491}",
       "filterBlob": null,
       "queryPlanFiltersBlob": null,
       "tableResultIndex": 0
      }
     },
     "title": ""
    }
   },
   "outputs": [],
   "source": [
    "## Importando a segunda API com dos dados relacionados a quantidade de vacinas de covid aplicadas\n",
    "\n",
    "# URL da API\n",
    "url = \"https://disease.sh/v3/covid-19/vaccine/coverage/countries?lastdays=1\"\n",
    "\n",
    "# Faz a chamada GET\n",
    "response = requests.get(url, headers={\"accept\": \"application/json\"})\n",
    "\n",
    "# Verifica se deu certo\n",
    "if response.status_code == 200:\n",
    "    data = response.json()\n",
    "    \n",
    "    # Normaliza JSON aninhado para DataFrame\n",
    "    df_vacina = pd.json_normalize(data)\n",
    "    \n",
    "    # Exibe as primeiras linhas\n",
    "    display(df_vacina)\n",
    "else:\n",
    "    print(\"Erro:\", response.status_code, response.text)"
   ]
  },
  {
   "cell_type": "code",
   "execution_count": 0,
   "metadata": {
    "application/vnd.databricks.v1+cell": {
     "cellMetadata": {
      "byteLimit": 2048000,
      "rowLimit": 10000
     },
     "inputWidgets": {},
     "nuid": "b45e161b-79d3-4b49-a45e-ae2e70a3f854",
     "showTitle": false,
     "tableResultSettingsMap": {},
     "title": ""
    }
   },
   "outputs": [],
   "source": [
    "# Verificando se tem campos nulos\n",
    "\n",
    "df_vacina.isnull().sum()"
   ]
  },
  {
   "cell_type": "code",
   "execution_count": 0,
   "metadata": {
    "application/vnd.databricks.v1+cell": {
     "cellMetadata": {
      "byteLimit": 2048000,
      "rowLimit": 10000
     },
     "inputWidgets": {},
     "nuid": "c0633e41-352f-4b7a-8963-bd2c0b44ac2c",
     "showTitle": false,
     "tableResultSettingsMap": {},
     "title": ""
    }
   },
   "outputs": [],
   "source": [
    "# Renomeando o nome do campo para vaccina\n",
    "\n",
    "df_vacina = df_vacina.rename(columns={\"timeline.7/21/25\": \"vaccina\"})\n",
    "\n",
    "display(df_vacina)"
   ]
  },
  {
   "cell_type": "code",
   "execution_count": 0,
   "metadata": {
    "application/vnd.databricks.v1+cell": {
     "cellMetadata": {
      "byteLimit": 2048000,
      "rowLimit": 10000
     },
     "inputWidgets": {},
     "nuid": "91b62d4f-8254-4393-8286-2a57f0503254",
     "showTitle": false,
     "tableResultSettingsMap": {},
     "title": ""
    }
   },
   "outputs": [],
   "source": [
    "# Fazendo um left join pela coluna \"country\"\n",
    "\n",
    "df_consolidado = pd.merge(df_covid, df_vacina, on='country', how='left')\n",
    "\n",
    "# Quando fiz o merge o tipo da coluna foi alterado para float\n",
    "df_consolidado[\"vaccina\"] = df_consolidado[\"vaccina\"].astype(\"Int64\")\n",
    "\n",
    "display(df_consolidado)"
   ]
  },
  {
   "cell_type": "code",
   "execution_count": 0,
   "metadata": {
    "application/vnd.databricks.v1+cell": {
     "cellMetadata": {
      "byteLimit": 2048000,
      "rowLimit": 10000
     },
     "inputWidgets": {},
     "nuid": "e59bdcb1-edf6-45ee-a4f9-4d6f6c1fba35",
     "showTitle": false,
     "tableResultSettingsMap": {},
     "title": ""
    }
   },
   "outputs": [],
   "source": [
    "# Selecionando apenas as colunas que acredito ser relevantes para o estudo\n",
    "\n",
    "df_consolidado1 = df_consolidado[[\"continent\",\"country\",\"population\" ,\"cases\", \"deaths\",\"vaccina\",\"recovered\"]]\n",
    "display(df_consolidado1)"
   ]
  },
  {
   "cell_type": "code",
   "execution_count": 0,
   "metadata": {
    "application/vnd.databricks.v1+cell": {
     "cellMetadata": {},
     "inputWidgets": {},
     "nuid": "ede60bbe-2ec8-493a-8773-1f55f9aa837d",
     "showTitle": false,
     "tableResultSettingsMap": {},
     "title": ""
    }
   },
   "outputs": [],
   "source": []
  }
 ],
 "metadata": {
  "application/vnd.databricks.v1+notebook": {
   "computePreferences": {
    "hardware": {
     "accelerator": null,
     "gpuPoolId": null,
     "memory": null
    }
   },
   "dashboards": [],
   "environmentMetadata": {
    "base_environment": "",
    "environment_version": "2"
   },
   "inputWidgetPreferences": null,
   "language": "python",
   "notebookMetadata": {
    "mostRecentlyExecutedCommandWithImplicitDF": {
     "commandId": 5314014174622180,
     "dataframes": [
      "_sqldf"
     ]
    },
    "pythonIndentUnit": 4
   },
   "notebookName": "Pipeline Python",
   "widgets": {}
  },
  "language_info": {
   "name": "python"
  }
 },
 "nbformat": 4,
 "nbformat_minor": 0
}
