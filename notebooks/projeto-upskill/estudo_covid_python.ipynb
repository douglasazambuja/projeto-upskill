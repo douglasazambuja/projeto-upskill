{
 "cells": [
  {
   "cell_type": "markdown",
   "metadata": {
    "application/vnd.databricks.v1+cell": {
     "cellMetadata": {
      "byteLimit": 2048000,
      "rowLimit": 10000
     },
     "inputWidgets": {},
     "nuid": "f3602ab1-5dc3-4a21-9a51-35482c8362db",
     "showTitle": false,
     "tableResultSettingsMap": {},
     "title": ""
    }
   },
   "source": [
    "\n",
    "# Projeto Prático - Pipeline Python para Dados via APIs\n",
    "\n",
    "## Objetivo do projeto\n",
    "\n",
    "#### Construir um pipeline de extração → tratamento → disponibilização de dados usando Python (ou PySpark/Databricks, conforme preferência). Cada participante deve extrair dados de pelo menos duas APIs públicas distintas, realizar transformações e entregá-los em formato consumível via GIT (CSV / Parquet / tabela em Snowflake/S3 / REST endpoint, Dashboard e entre outros de sua preferência) disponibilizando os dados da melhor maneira possível, aplicando práticas de Engenharia de Dados (orquestração, particionamento, testes de qualidade, documentação).\n",
    "\n",
    "##### Desenvolvido por: Douglas Santos Azambuja"
   ]
  },
  {
   "cell_type": "code",
   "execution_count": 0,
   "metadata": {
    "application/vnd.databricks.v1+cell": {
     "cellMetadata": {
      "byteLimit": 2048000,
      "rowLimit": 10000
     },
     "inputWidgets": {},
     "nuid": "ecb5b18c-70bb-484b-83ef-bb2d2845e92c",
     "showTitle": false,
     "tableResultSettingsMap": {},
     "title": ""
    }
   },
   "outputs": [],
   "source": [
    "# importar Bibliotecas \n",
    "\n",
    "import requests\n",
    "import pandas as pd\n",
    "import pyspark as spark\n",
    "from pyspark.sql import SparkSession\n",
    "spark = SparkSession.builder.getOrCreate()\n",
    "from pyspark.sql import functions as F\n",
    "from datetime import datetime, timedelta\n",
    "import matplotlib.pyplot as plt"
   ]
  },
  {
   "cell_type": "code",
   "execution_count": 0,
   "metadata": {
    "application/vnd.databricks.v1+cell": {
     "cellMetadata": {
      "byteLimit": 2048000,
      "rowLimit": 10000
     },
     "inputWidgets": {},
     "nuid": "02a4a023-5b88-4e54-b6c4-171711b09cf5",
     "showTitle": false,
     "tableResultSettingsMap": {
      "0": {
       "dataGridStateBlob": "{\"version\":1,\"tableState\":{\"columnPinning\":{\"left\":[\"#row_number#\"],\"right\":[]},\"columnSizing\":{\"countryInfo.flag\":151},\"columnVisibility\":{}},\"settings\":{\"columns\":{\"countryInfo.flag\":{\"format\":{\"preset\":\"string-preset-url\"}}}},\"syncTimestamp\":1756055582654}",
       "filterBlob": null,
       "queryPlanFiltersBlob": null,
       "tableResultIndex": 0
      }
     },
     "title": ""
    }
   },
   "outputs": [],
   "source": [
    "# URL da API\n",
    "url = \"https://disease.sh/v3/covid-19/countries\"\n",
    "\n",
    "# Faz a chamada GET\n",
    "response = requests.get(url, headers={\"accept\": \"application/json\"})\n",
    "\n",
    "# Verifica se deu certo\n",
    "if response.status_code == 200:\n",
    "    data = response.json()\n",
    "    \n",
    "    # Normaliza JSON aninhado para DataFrame\n",
    "    df_covid = pd.json_normalize(data)\n",
    "\n",
    "    # Criar coluna com a data e hora da importação, usei o timedetal para retornar o horário mais compativel com o nosso do Brasil\n",
    "    df_covid[\"dt_import_covid\"] = pd.to_datetime(datetime.now() - timedelta(hours=3))\n",
    "    \n",
    "    # Exibe as primeiras linhas\n",
    "    display(df_covid)\n",
    "else:\n",
    "    print(\"Erro:\", response.status_code, response.text)"
   ]
  },
  {
   "cell_type": "code",
   "execution_count": 0,
   "metadata": {
    "application/vnd.databricks.v1+cell": {
     "cellMetadata": {
      "byteLimit": 2048000,
      "rowLimit": 10000
     },
     "inputWidgets": {},
     "nuid": "aa65a7f0-2960-4feb-9e04-6f7e5f75d8af",
     "showTitle": false,
     "tableResultSettingsMap": {},
     "title": ""
    }
   },
   "outputs": [],
   "source": [
    "# Verificando o tipo de dados\n",
    "\n",
    "df_covid.info()"
   ]
  },
  {
   "cell_type": "code",
   "execution_count": 0,
   "metadata": {
    "application/vnd.databricks.v1+cell": {
     "cellMetadata": {
      "byteLimit": 2048000,
      "rowLimit": 10000
     },
     "inputWidgets": {},
     "nuid": "46396f64-d060-463a-8eef-6a75796f4945",
     "showTitle": false,
     "tableResultSettingsMap": {},
     "title": ""
    }
   },
   "outputs": [],
   "source": [
    "# Verificando a quantidade de campos nulos\n",
    "\n",
    "df_covid.isnull().sum()"
   ]
  },
  {
   "cell_type": "code",
   "execution_count": 0,
   "metadata": {
    "application/vnd.databricks.v1+cell": {
     "cellMetadata": {
      "byteLimit": 2048000,
      "rowLimit": 10000
     },
     "inputWidgets": {},
     "nuid": "363c6282-398b-4e66-b4d7-4567e4bace15",
     "showTitle": false,
     "tableResultSettingsMap": {
      "0": {
       "dataGridStateBlob": "{\"version\":1,\"tableState\":{\"columnPinning\":{\"left\":[\"#row_number#\"],\"right\":[]},\"columnSizing\":{},\"columnVisibility\":{}},\"settings\":{\"columns\":{}},\"syncTimestamp\":1756057022101}",
       "filterBlob": null,
       "queryPlanFiltersBlob": null,
       "tableResultIndex": 0
      }
     },
     "title": ""
    }
   },
   "outputs": [],
   "source": [
    "## Importando a segunda API com dos dados relacionados a quantidade de vacinas de covid aplicadas\n",
    "\n",
    "# URL da API\n",
    "url = \"https://disease.sh/v3/covid-19/vaccine/coverage/countries?lastdays=1\"\n",
    "\n",
    "# Faz a chamada GET\n",
    "response = requests.get(url, headers={\"accept\": \"application/json\"})\n",
    "\n",
    "# Verifica se deu certo\n",
    "if response.status_code == 200:\n",
    "    data = response.json()\n",
    "    \n",
    "    # Normaliza JSON aninhado para DataFrame\n",
    "    df_vacina = pd.json_normalize(data)\n",
    "\n",
    "    # Criar coluna com a data e hora da importação, usei o timedetal para retornar o horário mais compativel com o nosso do Brasil\n",
    "    df_vacina[\"dt_import_vacina\"] = pd.to_datetime(datetime.now() - timedelta(hours=3))\n",
    "    \n",
    "    # Exibe as primeiras linhas\n",
    "    display(df_vacina)\n",
    "else:\n",
    "    print(\"Erro:\", response.status_code, response.text)"
   ]
  },
  {
   "cell_type": "code",
   "execution_count": 0,
   "metadata": {
    "application/vnd.databricks.v1+cell": {
     "cellMetadata": {
      "byteLimit": 2048000,
      "rowLimit": 10000
     },
     "inputWidgets": {},
     "nuid": "b45e161b-79d3-4b49-a45e-ae2e70a3f854",
     "showTitle": false,
     "tableResultSettingsMap": {},
     "title": ""
    }
   },
   "outputs": [],
   "source": [
    "# Verificando se tem campos nulos\n",
    "\n",
    "df_vacina.isnull().sum()"
   ]
  },
  {
   "cell_type": "code",
   "execution_count": 0,
   "metadata": {
    "application/vnd.databricks.v1+cell": {
     "cellMetadata": {
      "byteLimit": 2048000,
      "rowLimit": 10000
     },
     "inputWidgets": {},
     "nuid": "c0633e41-352f-4b7a-8963-bd2c0b44ac2c",
     "showTitle": false,
     "tableResultSettingsMap": {
      "0": {
       "dataGridStateBlob": "{\"version\":1,\"tableState\":{\"columnPinning\":{\"left\":[\"#row_number#\"],\"right\":[]},\"columnSizing\":{},\"columnVisibility\":{}},\"settings\":{\"columns\":{}},\"syncTimestamp\":1756057023784}",
       "filterBlob": null,
       "queryPlanFiltersBlob": null,
       "tableResultIndex": 0
      }
     },
     "title": ""
    }
   },
   "outputs": [],
   "source": [
    "# Renomeando o nome do campo para vaccina\n",
    "\n",
    "df_vacina = df_vacina.rename(columns={\"timeline.7/21/25\": \"vaccina\"})\n",
    "\n",
    "display(df_vacina)"
   ]
  },
  {
   "cell_type": "code",
   "execution_count": 0,
   "metadata": {
    "application/vnd.databricks.v1+cell": {
     "cellMetadata": {
      "byteLimit": 2048000,
      "rowLimit": 10000
     },
     "inputWidgets": {},
     "nuid": "91b62d4f-8254-4393-8286-2a57f0503254",
     "showTitle": false,
     "tableResultSettingsMap": {
      "0": {
       "dataGridStateBlob": "{\"version\":1,\"tableState\":{\"columnPinning\":{\"left\":[\"#row_number#\"],\"right\":[]},\"columnSizing\":{},\"columnVisibility\":{}},\"settings\":{\"columns\":{\"countryInfo.flag\":{\"format\":{\"preset\":\"string-preset-url\"}}}},\"syncTimestamp\":1756056165584}",
       "filterBlob": null,
       "queryPlanFiltersBlob": null,
       "tableResultIndex": 0
      }
     },
     "title": ""
    }
   },
   "outputs": [],
   "source": [
    "# Fazendo um left join pela coluna \"country\"\n",
    "\n",
    "df_consolidado = pd.merge(df_covid, df_vacina, on='country', how='left')\n",
    "\n",
    "# Quando fiz o merge o tipo da coluna foi alterado para float\n",
    "df_consolidado[\"vaccina\"] = df_consolidado[\"vaccina\"].astype(\"Int64\")\n",
    "\n",
    "display(df_consolidado)"
   ]
  },
  {
   "cell_type": "code",
   "execution_count": 0,
   "metadata": {
    "application/vnd.databricks.v1+cell": {
     "cellMetadata": {
      "byteLimit": 2048000,
      "rowLimit": 10000
     },
     "inputWidgets": {},
     "nuid": "c1602506-7ad0-46eb-ab0b-a320c2de0eb7",
     "showTitle": false,
     "tableResultSettingsMap": {},
     "title": ""
    }
   },
   "outputs": [],
   "source": [
    "df_nvaccina = pd.merge(df_covid,df_vacina,on=\"country\",how=\"left\",indicator=True)\n",
    "\n",
    "# Filtra apenas os que não foram encontrados em df_vacina\n",
    "df_nvaccina = df_nvaccina[df_nvaccina[\"_merge\"] == \"left_only\"]\n",
    "\n",
    "# Remove a coluna auxiliar se quiser\n",
    "df_nvaccina = df_nvaccina.drop(columns=[\"_merge\",\"vaccina\",\"dt_import_vacina\"])\n",
    "\n",
    "display(df_nvaccina)"
   ]
  },
  {
   "cell_type": "code",
   "execution_count": 0,
   "metadata": {
    "application/vnd.databricks.v1+cell": {
     "cellMetadata": {
      "byteLimit": 2048000,
      "rowLimit": 10000
     },
     "inputWidgets": {},
     "nuid": "e59bdcb1-edf6-45ee-a4f9-4d6f6c1fba35",
     "showTitle": false,
     "tableResultSettingsMap": {},
     "title": ""
    }
   },
   "outputs": [],
   "source": [
    "# Selecionando apenas as colunas que acredito serem mais relevantes para o estudo\n",
    "\n",
    "df_consolidado1 = df_consolidado[[\"continent\",\"country\",\"population\" ,\"cases\", \"deaths\",\"vaccina\",\"recovered\"]]\n",
    "\n",
    "display(df_consolidado1)"
   ]
  },
  {
   "cell_type": "code",
   "execution_count": 0,
   "metadata": {
    "application/vnd.databricks.v1+cell": {
     "cellMetadata": {
      "byteLimit": 2048000,
      "rowLimit": 10000
     },
     "inputWidgets": {},
     "nuid": "e68f556e-2e2a-40ab-aeb3-2c08fe800e64",
     "showTitle": false,
     "tableResultSettingsMap": {},
     "title": ""
    }
   },
   "outputs": [],
   "source": [
    "# Acabei encontrando dois países com dados vazios na coluna continent\n",
    "\n",
    "# Remover apenas linhas onde 'continent' está vazio ou nulo\n",
    "\n",
    "df_consolidado1 = df_consolidado1[df_consolidado1[\"continent\"].notna() & (df_consolidado1[\"continent\"] != \"\")]\n",
    "\n",
    "display(df_consolidado1)"
   ]
  },
  {
   "cell_type": "code",
   "execution_count": 0,
   "metadata": {
    "application/vnd.databricks.v1+cell": {
     "cellMetadata": {
      "byteLimit": 2048000,
      "rowLimit": 10000
     },
     "inputWidgets": {},
     "nuid": "de73ceb3-b099-490b-880c-b06c56dda168",
     "showTitle": false,
     "tableResultSettingsMap": {},
     "title": ""
    }
   },
   "outputs": [],
   "source": [
    "# Separando alguns percentis de vacina para analise\n",
    "\n",
    "df_consolidado1[\"percentage_vaccina\"] = ((df_consolidado1[\"vaccina\"] / df_consolidado1[\"population\"]) * 100).round(2)\n",
    "\n",
    "display(df_consolidado1)"
   ]
  },
  {
   "cell_type": "code",
   "execution_count": 0,
   "metadata": {
    "application/vnd.databricks.v1+cell": {
     "cellMetadata": {
      "byteLimit": 2048000,
      "rowLimit": 10000
     },
     "inputWidgets": {},
     "nuid": "ede60bbe-2ec8-493a-8773-1f55f9aa837d",
     "showTitle": false,
     "tableResultSettingsMap": {},
     "title": ""
    }
   },
   "outputs": [],
   "source": [
    "# Separando alguns percentis de mortes para analise\n",
    "\n",
    "df_consolidado1[\"percentage_deaths\"] = ((df_consolidado1[\"deaths\"] / df_consolidado1[\"cases\"]) * 100).round(2)\n",
    "\n",
    "display(df_consolidado1)"
   ]
  },
  {
   "cell_type": "code",
   "execution_count": 0,
   "metadata": {
    "application/vnd.databricks.v1+cell": {
     "cellMetadata": {
      "byteLimit": 2048000,
      "rowLimit": 10000
     },
     "inputWidgets": {},
     "nuid": "84381f44-61c2-4388-805a-df7de77c35e3",
     "showTitle": false,
     "tableResultSettingsMap": {},
     "title": ""
    }
   },
   "outputs": [],
   "source": [
    "# Se parando apenas o continent Europa\n",
    "\n",
    "df_europe = df_consolidado1[df_consolidado1[\"continent\"] == \"Europe\"]\n",
    "\n",
    "display(df_europe)"
   ]
  },
  {
   "cell_type": "code",
   "execution_count": 0,
   "metadata": {
    "application/vnd.databricks.v1+cell": {
     "cellMetadata": {
      "byteLimit": 2048000,
      "rowLimit": 10000
     },
     "inputWidgets": {},
     "nuid": "0fa9a255-020b-46ae-b8aa-6a6be70f101e",
     "showTitle": false,
     "tableResultSettingsMap": {},
     "title": ""
    }
   },
   "outputs": [],
   "source": [
    "# Ordena pela coluna 'vacinados' do maior para o menor e pega os 10 primeiros\n",
    "\n",
    "top10_vaccina_euro = df_europe.sort_values(by=\"percentage_vaccina\", ascending=False).head(10) \n",
    "\n",
    "display(top10_vaccina_euro)"
   ]
  },
  {
   "cell_type": "code",
   "execution_count": 0,
   "metadata": {
    "application/vnd.databricks.v1+cell": {
     "cellMetadata": {
      "byteLimit": 2048000,
      "rowLimit": 10000
     },
     "inputWidgets": {},
     "nuid": "0e69f5be-2022-4fc4-884d-67bd2332436b",
     "showTitle": false,
     "tableResultSettingsMap": {},
     "title": ""
    }
   },
   "outputs": [],
   "source": [
    "# Ordena pela coluna 'deaths' do maior para o menor e pega os 10 primeiros\n",
    "\n",
    "top10_deaths_euro = df_europe.sort_values(by=\"percentage_deaths\", ascending=False).head(10)\n",
    "\n",
    "display(top10_deaths_euro)"
   ]
  },
  {
   "cell_type": "code",
   "execution_count": 0,
   "metadata": {
    "application/vnd.databricks.v1+cell": {
     "cellMetadata": {
      "byteLimit": 2048000,
      "rowLimit": 10000
     },
     "inputWidgets": {},
     "nuid": "11637393-bc90-4e7a-a2ea-ae4722a0d4bd",
     "showTitle": false,
     "tableResultSettingsMap": {},
     "title": ""
    }
   },
   "outputs": [],
   "source": [
    "# Gráfico de barras\n",
    "plt.figure(figsize=(12,5))\n",
    "bars = plt.bar(top10_vaccina_euro[\"country\"], top10_vaccina_euro[\"percentage_vaccina\"], color='darkgreen')\n",
    "\n",
    "for bar in bars:\n",
    "    height = bar.get_height()\n",
    "    plt.text(bar.get_x() + bar.get_width()/2, height + 0, f'{height}%', ha='center', va='bottom')\n",
    "\n",
    "plt.title(\"Top países da Europa por percentual de vacinados\")\n",
    "plt.xlabel(\"País\")\n",
    "plt.ylabel(\"Percentual de vacinados (%)\")\n",
    "plt.ylim(0, 600)  # eixo y de 0 a 100%\n",
    "plt.show()"
   ]
  },
  {
   "cell_type": "code",
   "execution_count": 0,
   "metadata": {
    "application/vnd.databricks.v1+cell": {
     "cellMetadata": {
      "byteLimit": 2048000,
      "rowLimit": 10000
     },
     "inputWidgets": {},
     "nuid": "47ead90a-9919-4f3c-a1c2-9a11360074fe",
     "showTitle": false,
     "tableResultSettingsMap": {},
     "title": ""
    }
   },
   "outputs": [],
   "source": [
    "# Gráfico de barras\n",
    "plt.figure(figsize=(12,5))\n",
    "bars = plt.bar(top10_deaths_euro[\"country\"], top10_deaths_euro[\"percentage_deaths\"], color='darkred')\n",
    "\n",
    "for bar in bars:\n",
    "    height = bar.get_height()\n",
    "    plt.text(bar.get_x() + bar.get_width()/2, height + 0, f'{height}%', ha='center', va='bottom')\n",
    "    \n",
    "plt.title(\"Top países da Europa por percentual de mortos\")\n",
    "plt.xlabel(\"País\")\n",
    "plt.ylabel(\"Percentual de mortos (%)\")\n",
    "plt.ylim(0, 6)  # eixo y de 0 a 100%\n",
    "plt.show()"
   ]
  },
  {
   "cell_type": "code",
   "execution_count": 0,
   "metadata": {
    "application/vnd.databricks.v1+cell": {
     "cellMetadata": {
      "byteLimit": 2048000,
      "rowLimit": 10000
     },
     "inputWidgets": {},
     "nuid": "74b7e291-d228-4011-8f6c-37152435fab3",
     "showTitle": false,
     "tableResultSettingsMap": {},
     "title": ""
    }
   },
   "outputs": [],
   "source": [
    "# Converte para Spark DataFrame\n",
    "df_spark_consolidado = spark.createDataFrame(df_consolidado1)\n",
    "\n",
    "# Salva no catálogo/ schema correto\n",
    "df_spark_consolidado.write.mode(\"overwrite\").saveAsTable(\n",
    "    \"estudo.default.covid_vacinados_parquet\"\n",
    ")\n",
    "\n",
    "# Salva em parquet dentro do Workspace (visível na UI)\n",
    "df_consolidado1.to_parquet(\"/Workspace/Users/doazambuja@gmail.com/projetos-desenvolvimento-pessoal/notebooks/projeto-upskill/dados_covid.parquet\", index=False)"
   ]
  },
  {
   "cell_type": "code",
   "execution_count": 0,
   "metadata": {
    "application/vnd.databricks.v1+cell": {
     "cellMetadata": {
      "byteLimit": 2048000,
      "rowLimit": 10000
     },
     "inputWidgets": {},
     "nuid": "6d6738e7-7e39-46ce-a328-13aaf2868b1a",
     "showTitle": false,
     "tableResultSettingsMap": {},
     "title": ""
    }
   },
   "outputs": [],
   "source": [
    "# Consultando a tabela \n",
    "\n",
    "df_consulta = spark.table(\"estudo.default.covid_vacinados_parquet\")\n",
    "df_consulta.show()"
   ]
  }
 ],
 "metadata": {
  "application/vnd.databricks.v1+notebook": {
   "computePreferences": {
    "hardware": {
     "accelerator": null,
     "gpuPoolId": null,
     "memory": null
    }
   },
   "dashboards": [],
   "environmentMetadata": {
    "base_environment": "",
    "environment_version": "2"
   },
   "inputWidgetPreferences": null,
   "language": "python",
   "notebookMetadata": {
    "mostRecentlyExecutedCommandWithImplicitDF": {
     "commandId": 6497176784131828,
     "dataframes": [
      "_sqldf"
     ]
    },
    "pythonIndentUnit": 4
   },
   "notebookName": "estudo_covid_python",
   "widgets": {}
  },
  "language_info": {
   "name": "python"
  }
 },
 "nbformat": 4,
 "nbformat_minor": 0
}
